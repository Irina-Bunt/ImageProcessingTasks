{
 "cells": [
  {
   "cell_type": "code",
   "execution_count": 16,
   "id": "2bce016b",
   "metadata": {},
   "outputs": [],
   "source": [
    "import cv2 as cv\n",
    "import numpy as np\n",
    "import matplotlib.pyplot as plt\n",
    "\n",
    "import ipywidgets as widgets"
   ]
  },
  {
   "cell_type": "code",
   "execution_count": 7,
   "id": "b101a317",
   "metadata": {},
   "outputs": [],
   "source": [
    "def plot_img_table(imgs, names, title):\n",
    "    nrows = imgs.shape[0]\n",
    "    ncols = imgs.shape[1]\n",
    "    fig, ax = plt.subplots(nrows, ncols, figsize=(8, 8))\n",
    "    fig.canvas.manager.set_window_title(title)\n",
    "    for i in range(nrows):\n",
    "        for j in range(ncols):\n",
    "            ax[i, j].imshow(imgs[i, j][:, :, ::-1])\n",
    "            ax[i, j].title.set_text(names[i, j])\n",
    "            ax[i, j].set_xticks([])\n",
    "            ax[i, j].set_yticks([])\n",
    "    plt.tight_layout()"
   ]
  },
  {
   "cell_type": "code",
   "execution_count": 8,
   "id": "855ea4b5",
   "metadata": {},
   "outputs": [],
   "source": [
    "def drawCornersH(img):\n",
    "    gray = cv.cvtColor(img, cv.COLOR_BGR2GRAY)\n",
    "    cornersH = cv.cornerHarris(gray, blockSize=2, ksize=3, k=0.04)\n",
    "    cornersH = cv.dilate(cornersH, None)\n",
    "    imgH = img.copy()\n",
    "    imgH[cornersH > 0.1 * cornersH.max()] = [0, 0, 255]  # Threshold for an optimal value\n",
    "    return imgH"
   ]
  },
  {
   "cell_type": "code",
   "execution_count": 9,
   "id": "aadefc65",
   "metadata": {},
   "outputs": [],
   "source": [
    "def drawCornersST(img):\n",
    "    gray = cv.cvtColor(img, cv.COLOR_BGR2GRAY)\n",
    "    cornersST = cv.goodFeaturesToTrack(gray, maxCorners=100, qualityLevel=0.01, minDistance=9).squeeze(1)\n",
    "    imgST = img.copy()\n",
    "    for c in cornersST:\n",
    "        cv.circle(imgST, (int(c[0]), int(c[1])), 4, (0, 0, 255), -1)\n",
    "    return imgST"
   ]
  },
  {
   "cell_type": "code",
   "execution_count": 18,
   "id": "5a2a8f89",
   "metadata": {},
   "outputs": [
    {
     "data": {
      "application/vnd.jupyter.widget-view+json": {
       "model_id": "a8dc63052f284559a9f53a0477f6b0fe",
       "version_major": 2,
       "version_minor": 0
      },
      "text/plain": [
       "interactive(children=(FloatSlider(value=100.0, description='th1', max=200.0), FloatSlider(value=100.0, descrip…"
      ]
     },
     "metadata": {},
     "output_type": "display_data"
    }
   ],
   "source": [
    "# img = cv.imread(\"46a4f5ea-4262-4e52-abbd-245dc844eb65.jpeg\")\n",
    "@widgets.interact(th1 = (0.0, 200.0), th2 = (0.0, 200.0))\n",
    "def Drow(th1=100.0, th2=100.0):\n",
    "    img = cv.imread(\"dom-2.jpg\")\n",
    "    img = cv.resize(img, (640, 480))\n",
    "    height, width = img.shape[:2]\n",
    "    center = (width / 2, height / 2)\n",
    "\n",
    "    orig_img_H = drawCornersH(img)\n",
    "    orig_img_ST = drawCornersST(img)\n",
    "\n",
    "    rot_mat = cv.getRotationMatrix2D(center=center, angle=45, scale=0.6)\n",
    "    aff_img = cv.warpAffine(img, rot_mat, (width, height))\n",
    "    aff_img_H = drawCornersH(aff_img)\n",
    "    aff_img_ST = drawCornersST(aff_img)\n",
    "\n",
    "    pts1 = np.float32([[0, 0], [0, height], [width, height], [width, 0]])\n",
    "#     pts2 = np.float32([[50, 50], [200, height-200], [width, height], [width-100, 100]])\n",
    "    pts2 = np.float32([[th1, th1], [th1, height-th1], [width, height], [width-th2, th2]])\n",
    "    p_mat = cv.getPerspectiveTransform(pts1, pts2)\n",
    "    p_img = cv.warpPerspective(img, p_mat, (640, 480))\n",
    "    p_img_H = drawCornersH(p_img)\n",
    "    p_img_ST = drawCornersST(p_img)\n",
    "\n",
    "    names = np.array([['Original', 'Corner'], ['Affine', 'Perspective']])\n",
    "    imgs_H = np.array([[img, orig_img_H], [aff_img_H, p_img_H]])\n",
    "    imgs_ST = np.array([[img, orig_img_ST], [aff_img_ST, p_img_ST]])\n",
    "    plot_img_table(imgs_H, names, title=\"Harris\")\n",
    "    plot_img_table(imgs_ST, names, title=\"Shi-Tomasi\")\n",
    "\n",
    "    plt.show()\n",
    "    cv.waitKey(0)"
   ]
  },
  {
   "cell_type": "code",
   "execution_count": null,
   "id": "726c883c",
   "metadata": {},
   "outputs": [],
   "source": []
  },
  {
   "cell_type": "code",
   "execution_count": null,
   "id": "f00b8012",
   "metadata": {},
   "outputs": [],
   "source": []
  }
 ],
 "metadata": {
  "kernelspec": {
   "display_name": "Python 3 (ipykernel)",
   "language": "python",
   "name": "python3"
  },
  "language_info": {
   "codemirror_mode": {
    "name": "ipython",
    "version": 3
   },
   "file_extension": ".py",
   "mimetype": "text/x-python",
   "name": "python",
   "nbconvert_exporter": "python",
   "pygments_lexer": "ipython3",
   "version": "3.9.5"
  }
 },
 "nbformat": 4,
 "nbformat_minor": 5
}
