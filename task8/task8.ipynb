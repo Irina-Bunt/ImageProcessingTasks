{
 "cells": [
  {
   "cell_type": "code",
   "execution_count": 1,
   "id": "684f000b",
   "metadata": {},
   "outputs": [],
   "source": [
    "import cv2\n",
    "import numpy as np"
   ]
  },
  {
   "cell_type": "code",
   "execution_count": 2,
   "id": "62dbeb19",
   "metadata": {},
   "outputs": [],
   "source": [
    "def update():\n",
    "    global thr\n",
    "    lines = cv2.HoughLines(edges, 1, np.pi / 180, thr, np.array([]))\n",
    "    # Draw lines on the image\n",
    "    curr_img = img.copy()\n",
    "\n",
    "    if lines is not None:\n",
    "        for line in lines:\n",
    "            rho, theta = line[0]\n",
    "            a = np.cos(theta)\n",
    "            b = np.sin(theta)\n",
    "            x0 = a * rho\n",
    "            y0 = b * rho\n",
    "            x1 = int(x0 + 1000 * (-b))\n",
    "            y1 = int(y0 + 1000 * (a))\n",
    "            x2 = int(x0 - 1000 * (-b))\n",
    "            y2 = int(y0 - 1000 * (a))\n",
    "\n",
    "            cv2.line(curr_img, (x1, y1), (x2, y2), (0, 0, 255), 2)\n",
    "\n",
    "    cv2.imshow(\"Hough\", curr_img)"
   ]
  },
  {
   "cell_type": "code",
   "execution_count": 3,
   "id": "b77a5eae",
   "metadata": {},
   "outputs": [],
   "source": [
    "def updateP():\n",
    "    global thr_p, min_len_p\n",
    "    lines = cv2.HoughLinesP(edges, 1, np.pi / 180, threshold=thr_p, minLineLength=min_len_p)\n",
    "    # Draw lines on the image\n",
    "    curr_img = img.copy()\n",
    "\n",
    "    if lines is not None:\n",
    "        for line in lines:\n",
    "            x1, y1, x2, y2 = line[0]\n",
    "            cv2.line(curr_img, (x1, y1), (x2, y2), (255, 0, 0), 2)\n",
    "    cv2.imshow(\"HoughP\", curr_img)\n"
   ]
  },
  {
   "cell_type": "code",
   "execution_count": 4,
   "id": "b9e2a51a",
   "metadata": {},
   "outputs": [],
   "source": [
    "def set_thr(val):\n",
    "    global thr\n",
    "    thr = val\n",
    "    update()\n",
    "\n",
    "\n",
    "def set_thr_p(val):\n",
    "    global thr_p\n",
    "    thr_p = val\n",
    "    updateP()\n",
    "\n",
    "\n",
    "def set_len_p(val):\n",
    "    global min_len_p\n",
    "    min_len_p = val\n",
    "    updateP()"
   ]
  },
  {
   "cell_type": "code",
   "execution_count": 5,
   "id": "ef7f0b4b",
   "metadata": {},
   "outputs": [
    {
     "data": {
      "text/plain": [
       "-1"
      ]
     },
     "execution_count": 5,
     "metadata": {},
     "output_type": "execute_result"
    }
   ],
   "source": [
    "# Read image\n",
    "img = cv2.imread('road.jpeg', cv2.IMREAD_COLOR)\n",
    "# Convert the image to gray-scale\n",
    "gray = cv2.cvtColor(img, cv2.COLOR_BGR2GRAY)\n",
    "\n",
    "# Find the edges in the image using canny detector\n",
    "edges = cv2.Canny(gray, 50, 200)\n",
    "\n",
    "\n",
    "thr = 250\n",
    "thr_p = 10\n",
    "min_len_p = 10\n",
    "\n",
    "param_window_name = 'sliders'\n",
    "cv2.namedWindow(param_window_name)\n",
    "cv2.createTrackbar('thr', param_window_name, 250, 750, set_thr)\n",
    "cv2.createTrackbar('thr p', param_window_name, 10, 100, set_thr_p)\n",
    "cv2.createTrackbar('min len p', param_window_name, 10, 100, set_len_p)\n",
    "\n",
    "#cv2.imshow(\"Hough\", img)\n",
    "#cv2.imshow(\"HoughP\", img)\n",
    "cv2.waitKey(0)"
   ]
  },
  {
   "cell_type": "code",
   "execution_count": null,
   "id": "7699846d",
   "metadata": {},
   "outputs": [],
   "source": []
  },
  {
   "cell_type": "code",
   "execution_count": null,
   "id": "91e8b77a",
   "metadata": {},
   "outputs": [],
   "source": []
  }
 ],
 "metadata": {
  "kernelspec": {
   "display_name": "Python 3 (ipykernel)",
   "language": "python",
   "name": "python3"
  },
  "language_info": {
   "codemirror_mode": {
    "name": "ipython",
    "version": 3
   },
   "file_extension": ".py",
   "mimetype": "text/x-python",
   "name": "python",
   "nbconvert_exporter": "python",
   "pygments_lexer": "ipython3",
   "version": "3.9.5"
  }
 },
 "nbformat": 4,
 "nbformat_minor": 5
}
